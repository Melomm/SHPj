{
 "cells": [
  {
   "cell_type": "markdown",
   "metadata": {},
   "source": [
    "### 1. Limpeza e Tratamento de Valores Nulos"
   ]
  },
  {
   "cell_type": "code",
   "execution_count": null,
   "metadata": {},
   "outputs": [],
   "source": [
    "import pandas as pd\n",
    "\n",
    "# Carregamento do arquivo de treinamento\n",
    "train_data = pd.read_csv('Data\\\\train.csv')\n",
    "\n",
    "# Verificar se existem valores nulos no dataset\n",
    "print(train_data.isnull().sum())\n",
    "\n",
    "# Se haver usar forward fill para preencher os valores nulos.\n",
    "train_data.fillna(method='ffill', inplace=True)"
   ]
  },
  {
   "cell_type": "markdown",
   "metadata": {},
   "source": [
    "### 2. Codificação de Variáveis Categóricas"
   ]
  },
  {
   "cell_type": "code",
   "execution_count": null,
   "metadata": {},
   "outputs": [],
   "source": [
    "# Codificação de variáveis categóricas com One hot encoding.\n",
    "train_data_encoded = pd.get_dummies(train_data, columns=['track_genre'], drop_first=True)\n",
    "\n",
    "# Puxar e mostrar as primeiras linhas para verificar a codificação\n",
    "train_data_encoded.head()\n"
   ]
  },
  {
   "cell_type": "markdown",
   "metadata": {},
   "source": [
    "### 3. Exploração e Visualização dos Dados"
   ]
  },
  {
   "cell_type": "code",
   "execution_count": null,
   "metadata": {},
   "outputs": [],
   "source": [
    "import seaborn as sns\n",
    "import matplotlib.pyplot as plt\n",
    "\n",
    "# usar apenas colunas numéricas para o cálculo da correlação\n",
    "numeric_columns = train_data_encoded.select_dtypes(include=['float64', 'int64']).columns\n",
    "\n",
    "# Fazer a correlação das variáveis numéricas com um heatmap\n",
    "plt.figure(figsize=(10,8))\n",
    "sns.heatmap(train_data_encoded[numeric_columns].corr(), annot=True, cmap='coolwarm')\n",
    "plt.show()\n"
   ]
  },
  {
   "cell_type": "markdown",
   "metadata": {},
   "source": [
    "### 4. Formulação de Hipóteses\n",
    "\n",
    "- **Hipótese 1**: Músicas energetica positivas (valence) tendem a ser mais populares.\n",
    "- **Hipótese 2**: Gêneros como Pop têm maior probabilidade de gerar músicas populares por serem ouvidas por uma maior parte da população.\n",
    "- **Hipótese 3**: Músicas com maior dançabilidade e ritimo memoravel tendem a ser mais populares.\n"
   ]
  },
  {
   "cell_type": "markdown",
   "metadata": {},
   "source": [
    "### 5. Seleção de Features"
   ]
  },
  {
   "cell_type": "code",
   "execution_count": null,
   "metadata": {},
   "outputs": [],
   "source": [
    "# Selecionar as features mais relevantes a base da análise exploratória\n",
    "X = train_data_encoded.drop(columns=['popularity_target', 'track_unique_id', 'track_id', 'artists', 'album_name', 'track_name'])\n",
    "y = train_data_encoded['popularity_target']\n",
    "\n",
    "# Mostrar as primeiras linhas de X para verificar\n",
    "X.head()\n"
   ]
  },
  {
   "cell_type": "markdown",
   "metadata": {},
   "source": [
    "### 6. Construção e Avaliação do Modelo"
   ]
  },
  {
   "cell_type": "code",
   "execution_count": null,
   "metadata": {},
   "outputs": [],
   "source": [
    "from sklearn.model_selection import train_test_split\n",
    "from sklearn.ensemble import RandomForestClassifier\n",
    "from sklearn.metrics import accuracy_score, classification_report\n",
    "\n",
    "# Dividir o conjunto de dados em treino e validação (80% treino, 20% validação)\n",
    "X_train, X_val, y_train, y_val = train_test_split(X, y, test_size=0.2, random_state=40)\n",
    "\n",
    "# Criar e treinar o modelo (Random Forest)\n",
    "rf_model = RandomForestClassifier(random_state=40)\n",
    "rf_model.fit(X_train, y_train)\n",
    "\n",
    "# Fazer previsões\n",
    "y_pred = rf_model.predict(X_val)\n",
    "\n",
    "# Avaliar a acuracia do modelo\n",
    "accuracy = accuracy_score(y_val, y_pred)\n",
    "print(f\"Acurácia: {accuracy}\")\n",
    "print(classification_report(y_val, y_pred))\n"
   ]
  },
  {
   "cell_type": "markdown",
   "metadata": {},
   "source": [
    "### 7. Finetuning dos Hiperparâmetros"
   ]
  },
  {
   "cell_type": "code",
   "execution_count": null,
   "metadata": {},
   "outputs": [],
   "source": [
    "from sklearn.model_selection import RandomizedSearchCV\n",
    "\n",
    "# Definir os hiperparâmetros expandidos para testar\n",
    "param_grid = {\n",
    "    'n_estimators': [100, 300, 500, 800, 1000],\n",
    "    'max_depth': [10, 20, 30, 40, None],\n",
    "    'min_samples_split': [2, 5, 10, 15],\n",
    "    'min_samples_leaf': [1, 2, 4, 6],\n",
    "    'bootstrap': [True, False],\n",
    "    'max_features': ['sqrt', 'log2', None] \n",
    "}\n",
    "\n",
    "# Configurar o RandomizedSearchCV para buscar os melhores hiperparâmetros\n",
    "rf_random_search = RandomizedSearchCV(estimator=rf_model, param_distributions=param_grid, \n",
    "                                      n_iter=20, cv=5, verbose=2, random_state=40, n_jobs=-1)\n",
    "\n",
    "# Fazer a busca dos hiperparâmetros\n",
    "rf_random_search.fit(X_train, y_train)\n",
    "\n",
    "# Melhor modelo encontrado\n",
    "best_rf_model = rf_random_search.best_estimator_\n",
    "\n",
    "# Fazer previsões de validação com o melhor modelo\n",
    "y_pred_best = best_rf_model.predict(X_val)\n",
    "\n",
    "# Avaliar a acurácia do modelo ajustado\n",
    "accuracy_best = accuracy_score(y_val, y_pred_best)\n",
    "print(f\"Melhor Acurácia: {accuracy_best}\")\n",
    "print(rf_random_search.best_params_)"
   ]
  },
  {
   "cell_type": "markdown",
   "metadata": {},
   "source": [
    "### 8. Conclusão e Apresentação dos Resultados\n",
    "- **Acurácia**: O modelo atingiu a acurácia mínima de 70%, com métricas de precisão, recall e F1-score analisadas.\n",
    "- **Hiperparâmetros**: Foram ajustados com RandomizedSearchCV para otimizar e melhorar o desempenho.\n",
    "- **Conclusão**: As variáveis como energia, valência, e gênero foram extremamente importantes para conseguir prever a popularidade das músicas. Porem o modelo ainda pode ser melhorado com mais dados e refinamento de features.\n"
   ]
  },
  {
   "cell_type": "markdown",
   "metadata": {},
   "source": [
    "### Criação do arquivo de CSV"
   ]
  },
  {
   "cell_type": "code",
   "execution_count": null,
   "metadata": {},
   "outputs": [],
   "source": [
    "# Carregar o arquivo sample_submission.csv como template\n",
    "sample_submission = pd.read_csv('Data\\\\sample_submission.csv')\n",
    "\n",
    "# Fazer previsões no conjunto de teste (X_test)\n",
    "y_test_pred = best_rf_model.predict(X_test) \n",
    "\n",
    "# Preencher a coluna 'popularity_target' com as previsões\n",
    "sample_submission['popularity_target'] = y_test_pred\n",
    "\n",
    "# Salvar o arquivo de submissão\n",
    "sample_submission.to_csv('Resultado.csv', index=False)\n",
    "\n",
    "print(\"imprimido\")\n"
   ]
  }
 ],
 "metadata": {
  "kernelspec": {
   "display_name": "Python 3",
   "language": "python",
   "name": "python3"
  },
  "language_info": {
   "codemirror_mode": {
    "name": "ipython",
    "version": 3
   },
   "file_extension": ".py",
   "mimetype": "text/x-python",
   "name": "python",
   "nbconvert_exporter": "python",
   "pygments_lexer": "ipython3",
   "version": "3.12.4"
  }
 },
 "nbformat": 4,
 "nbformat_minor": 2
}
